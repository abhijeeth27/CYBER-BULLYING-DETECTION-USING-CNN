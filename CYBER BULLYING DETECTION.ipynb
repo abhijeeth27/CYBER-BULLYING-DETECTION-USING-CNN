{
 "cells": [
  {
   "cell_type": "code",
   "execution_count": 23,
   "id": "fc615126",
   "metadata": {
    "execution": {
     "iopub.execute_input": "2022-11-25T18:24:22.929779Z",
     "iopub.status.busy": "2022-11-25T18:24:22.928966Z",
     "iopub.status.idle": "2022-11-25T18:24:30.800521Z",
     "shell.execute_reply": "2022-11-25T18:24:30.799530Z"
    },
    "papermill": {
     "duration": 7.888593,
     "end_time": "2022-11-25T18:24:30.803392",
     "exception": false,
     "start_time": "2022-11-25T18:24:22.914799",
     "status": "completed"
    },
    "tags": []
   },
   "outputs": [],
   "source": [
    "import pandas as pd\n",
    "import numpy as np\n",
    "#from tensorflow.keras.preprocessing.sequence import pad_sequences\n",
    "#import string\n",
    "#import nltk\n",
    "#from tensorflow.keras.utils import to_categorical\n",
    "#from tensorflow import keras\n",
    "#from sklearn.model_selection import train_test_split\n",
    "#from nltk.stem.wordnet import WordNetLemmatizer\n",
    "#import re\n",
    "#from tensorflow.keras import regularizers\n",
    "#from tensorflow.keras.layers import Embedding,Flatten,Dense,Conv1D,MaxPooling1D\n",
    "#from nltk.corpus import stopwords\n",
    "#import matplotlib.pyplot as plt\n",
    "#import seaborn as sns\n",
    "#from nltk.tokenize import word_tokenize\n",
    "#from wordcloud import WordCloud,STOPWORDS, ImageColorGenerator\n",
    "#import plotly.express as px\n",
    "#from collections import Counter\n",
    "#from tensorflow.keras.preprocessing.text import Tokenizer\n",
    "#from tensorflow.keras import Sequential\n",
    "#from sklearn.preprocessing import OrdinalEncoder"
   ]
  },
  {
   "cell_type": "code",
   "execution_count": 24,
   "id": "1631639a",
   "metadata": {
    "execution": {
     "iopub.execute_input": "2022-11-25T18:24:30.851113Z",
     "iopub.status.busy": "2022-11-25T18:24:30.850807Z",
     "iopub.status.idle": "2022-11-25T18:24:31.075765Z",
     "shell.execute_reply": "2022-11-25T18:24:31.074799Z"
    },
    "papermill": {
     "duration": 0.23985,
     "end_time": "2022-11-25T18:24:31.078082",
     "exception": false,
     "start_time": "2022-11-25T18:24:30.838232",
     "status": "completed"
    },
    "scrolled": true,
    "tags": []
   },
   "outputs": [
    {
     "data": {
      "text/html": [
       "<div>\n",
       "<style scoped>\n",
       "    .dataframe tbody tr th:only-of-type {\n",
       "        vertical-align: middle;\n",
       "    }\n",
       "\n",
       "    .dataframe tbody tr th {\n",
       "        vertical-align: top;\n",
       "    }\n",
       "\n",
       "    .dataframe thead th {\n",
       "        text-align: right;\n",
       "    }\n",
       "</style>\n",
       "<table border=\"1\" class=\"dataframe\">\n",
       "  <thead>\n",
       "    <tr style=\"text-align: right;\">\n",
       "      <th></th>\n",
       "      <th>tweet_text</th>\n",
       "      <th>cyberbullying_type</th>\n",
       "    </tr>\n",
       "  </thead>\n",
       "  <tbody>\n",
       "    <tr>\n",
       "      <th>0</th>\n",
       "      <td>In other words #katandandre, your food was cra...</td>\n",
       "      <td>not_cyberbullying</td>\n",
       "    </tr>\n",
       "    <tr>\n",
       "      <th>1</th>\n",
       "      <td>Why is #aussietv so white? #MKR #theblock #ImA...</td>\n",
       "      <td>not_cyberbullying</td>\n",
       "    </tr>\n",
       "    <tr>\n",
       "      <th>2</th>\n",
       "      <td>@XochitlSuckkks a classy whore? Or more red ve...</td>\n",
       "      <td>not_cyberbullying</td>\n",
       "    </tr>\n",
       "    <tr>\n",
       "      <th>3</th>\n",
       "      <td>@Jason_Gio meh. :P  thanks for the heads up, b...</td>\n",
       "      <td>not_cyberbullying</td>\n",
       "    </tr>\n",
       "    <tr>\n",
       "      <th>4</th>\n",
       "      <td>@RudhoeEnglish This is an ISIS account pretend...</td>\n",
       "      <td>not_cyberbullying</td>\n",
       "    </tr>\n",
       "    <tr>\n",
       "      <th>...</th>\n",
       "      <td>...</td>\n",
       "      <td>...</td>\n",
       "    </tr>\n",
       "    <tr>\n",
       "      <th>47687</th>\n",
       "      <td>Black ppl aren't expected to do anything, depe...</td>\n",
       "      <td>ethnicity</td>\n",
       "    </tr>\n",
       "    <tr>\n",
       "      <th>47688</th>\n",
       "      <td>Turner did not withhold his disappointment. Tu...</td>\n",
       "      <td>ethnicity</td>\n",
       "    </tr>\n",
       "    <tr>\n",
       "      <th>47689</th>\n",
       "      <td>I swear to God. This dumb nigger bitch. I have...</td>\n",
       "      <td>ethnicity</td>\n",
       "    </tr>\n",
       "    <tr>\n",
       "      <th>47690</th>\n",
       "      <td>Yea fuck you RT @therealexel: IF YOURE A NIGGE...</td>\n",
       "      <td>ethnicity</td>\n",
       "    </tr>\n",
       "    <tr>\n",
       "      <th>47691</th>\n",
       "      <td>Bro. U gotta chill RT @CHILLShrammy: Dog FUCK ...</td>\n",
       "      <td>ethnicity</td>\n",
       "    </tr>\n",
       "  </tbody>\n",
       "</table>\n",
       "<p>47692 rows × 2 columns</p>\n",
       "</div>"
      ],
      "text/plain": [
       "                                              tweet_text cyberbullying_type\n",
       "0      In other words #katandandre, your food was cra...  not_cyberbullying\n",
       "1      Why is #aussietv so white? #MKR #theblock #ImA...  not_cyberbullying\n",
       "2      @XochitlSuckkks a classy whore? Or more red ve...  not_cyberbullying\n",
       "3      @Jason_Gio meh. :P  thanks for the heads up, b...  not_cyberbullying\n",
       "4      @RudhoeEnglish This is an ISIS account pretend...  not_cyberbullying\n",
       "...                                                  ...                ...\n",
       "47687  Black ppl aren't expected to do anything, depe...          ethnicity\n",
       "47688  Turner did not withhold his disappointment. Tu...          ethnicity\n",
       "47689  I swear to God. This dumb nigger bitch. I have...          ethnicity\n",
       "47690  Yea fuck you RT @therealexel: IF YOURE A NIGGE...          ethnicity\n",
       "47691  Bro. U gotta chill RT @CHILLShrammy: Dog FUCK ...          ethnicity\n",
       "\n",
       "[47692 rows x 2 columns]"
      ]
     },
     "execution_count": 24,
     "metadata": {},
     "output_type": "execute_result"
    }
   ],
   "source": [
    "df = pd.read_csv(r\"C:\\REAL TIME PROJECTS\\NEW PROJECTS TO LEARN\\cyberbullying\\cyberbullying_tweets.csv\")\n",
    "df"
   ]
  },
  {
   "cell_type": "code",
   "execution_count": 25,
   "id": "1c219665",
   "metadata": {},
   "outputs": [],
   "source": [
    "# EXPLORATORY DATA ANALYSIS"
   ]
  },
  {
   "cell_type": "code",
   "execution_count": 26,
   "id": "51979eb5",
   "metadata": {
    "execution": {
     "iopub.execute_input": "2022-11-25T18:24:31.127621Z",
     "iopub.status.busy": "2022-11-25T18:24:31.125971Z",
     "iopub.status.idle": "2022-11-25T18:24:31.139935Z",
     "shell.execute_reply": "2022-11-25T18:24:31.138957Z"
    },
    "papermill": {
     "duration": 0.028947,
     "end_time": "2022-11-25T18:24:31.142254",
     "exception": false,
     "start_time": "2022-11-25T18:24:31.113307",
     "status": "completed"
    },
    "tags": []
   },
   "outputs": [
    {
     "data": {
      "text/plain": [
       "array(['not_cyberbullying', 'gender', 'religion', 'other_cyberbullying',\n",
       "       'age', 'ethnicity'], dtype=object)"
      ]
     },
     "execution_count": 26,
     "metadata": {},
     "output_type": "execute_result"
    }
   ],
   "source": [
    "df['cyberbullying_type'].unique()"
   ]
  },
  {
   "cell_type": "code",
   "execution_count": 27,
   "id": "af352876",
   "metadata": {
    "execution": {
     "iopub.execute_input": "2022-11-25T18:24:31.166718Z",
     "iopub.status.busy": "2022-11-25T18:24:31.166453Z",
     "iopub.status.idle": "2022-11-25T18:24:31.187050Z",
     "shell.execute_reply": "2022-11-25T18:24:31.184186Z"
    },
    "papermill": {
     "duration": 0.035314,
     "end_time": "2022-11-25T18:24:31.189225",
     "exception": false,
     "start_time": "2022-11-25T18:24:31.153911",
     "status": "completed"
    },
    "tags": []
   },
   "outputs": [
    {
     "name": "stdout",
     "output_type": "stream",
     "text": [
      "<class 'pandas.core.frame.DataFrame'>\n",
      "RangeIndex: 47692 entries, 0 to 47691\n",
      "Data columns (total 2 columns):\n",
      " #   Column              Non-Null Count  Dtype \n",
      "---  ------              --------------  ----- \n",
      " 0   tweet_text          47692 non-null  object\n",
      " 1   cyberbullying_type  47692 non-null  object\n",
      "dtypes: object(2)\n",
      "memory usage: 745.3+ KB\n"
     ]
    }
   ],
   "source": [
    "df.info()"
   ]
  },
  {
   "cell_type": "code",
   "execution_count": 28,
   "id": "b1e110be",
   "metadata": {
    "execution": {
     "iopub.execute_input": "2022-11-25T18:24:31.214791Z",
     "iopub.status.busy": "2022-11-25T18:24:31.214178Z",
     "iopub.status.idle": "2022-11-25T18:24:31.298660Z",
     "shell.execute_reply": "2022-11-25T18:24:31.297105Z"
    },
    "papermill": {
     "duration": 0.099254,
     "end_time": "2022-11-25T18:24:31.300557",
     "exception": false,
     "start_time": "2022-11-25T18:24:31.201303",
     "status": "completed"
    },
    "tags": []
   },
   "outputs": [
    {
     "name": "stdout",
     "output_type": "stream",
     "text": [
      "36\n",
      "0\n"
     ]
    }
   ],
   "source": [
    "print(df.duplicated().sum())\n",
    "df = df.drop_duplicates()\n",
    "print(df.duplicated().sum())"
   ]
  },
  {
   "cell_type": "code",
   "execution_count": 29,
   "id": "d4854720",
   "metadata": {
    "execution": {
     "iopub.execute_input": "2022-11-25T18:24:31.327420Z",
     "iopub.status.busy": "2022-11-25T18:24:31.325928Z",
     "iopub.status.idle": "2022-11-25T18:24:31.481271Z",
     "shell.execute_reply": "2022-11-25T18:24:31.479970Z"
    },
    "papermill": {
     "duration": 0.171781,
     "end_time": "2022-11-25T18:24:31.484727",
     "exception": false,
     "start_time": "2022-11-25T18:24:31.312946",
     "status": "completed"
    },
    "tags": []
   },
   "outputs": [
    {
     "data": {
      "text/plain": [
       "<Axes: >"
      ]
     },
     "execution_count": 29,
     "metadata": {},
     "output_type": "execute_result"
    },
    {
     "data": {
      "image/png": "[encoded data removed]",
      "text/plain": [
       "<Figure size 640x480 with 1 Axes>"
      ]
     },
     "metadata": {},
     "output_type": "display_data"
    }
   ],
   "source": [
    "df.groupby('cyberbullying_type').size().plot(kind='pie')"
   ]
  },
  {
   "cell_type": "code",
   "execution_count": 30,
   "id": "150725e0",
   "metadata": {},
   "outputs": [],
   "source": [
    "# PREPROCESSING THE TWEETS"
   ]
  },
  {
   "cell_type": "code",
   "execution_count": 31,
   "id": "22de3c7e",
   "metadata": {
    "execution": {
     "iopub.execute_input": "2022-11-25T18:24:31.584638Z",
     "iopub.status.busy": "2022-11-25T18:24:31.584352Z",
     "iopub.status.idle": "2022-11-25T18:24:43.457935Z",
     "shell.execute_reply": "2022-11-25T18:24:43.456284Z"
    },
    "papermill": {
     "duration": 11.889145,
     "end_time": "2022-11-25T18:24:43.460335",
     "exception": false,
     "start_time": "2022-11-25T18:24:31.571190",
     "status": "completed"
    },
    "tags": []
   },
   "outputs": [
    {
     "name": "stdout",
     "output_type": "stream",
     "text": [
      "Requirement already satisfied: tweet-preprocessor in c:\\users\\aaabh\\anaconda3\\envs\\tensorflow_env\\lib\\site-packages (0.6.0)\n",
      "Note: you may need to restart the kernel to use updated packages.\n"
     ]
    }
   ],
   "source": [
    "pip install tweet-preprocessor"
   ]
  },
  {
   "cell_type": "code",
   "execution_count": 32,
   "id": "a094fa0e",
   "metadata": {
    "execution": {
     "iopub.execute_input": "2022-11-25T18:24:43.513028Z",
     "iopub.status.busy": "2022-11-25T18:24:43.512604Z",
     "iopub.status.idle": "2022-11-25T18:24:43.534171Z",
     "shell.execute_reply": "2022-11-25T18:24:43.533294Z"
    },
    "papermill": {
     "duration": 0.037528,
     "end_time": "2022-11-25T18:24:43.536213",
     "exception": false,
     "start_time": "2022-11-25T18:24:43.498685",
     "status": "completed"
    },
    "tags": []
   },
   "outputs": [],
   "source": [
    "import preprocessor as p\n",
    "#forming a separate feature for cleaned tweets\n",
    "def preprocess_tweet(row):\n",
    "    text = row['tweet_text']\n",
    "    text = p.clean(text)\n",
    "    return text"
   ]
  },
  {
   "cell_type": "code",
   "execution_count": 33,
   "id": "3d4a6de6",
   "metadata": {
    "execution": {
     "iopub.execute_input": "2022-11-25T18:24:43.563009Z",
     "iopub.status.busy": "2022-11-25T18:24:43.562233Z",
     "iopub.status.idle": "2022-11-25T18:24:50.168999Z",
     "shell.execute_reply": "2022-11-25T18:24:50.168013Z"
    },
    "papermill": {
     "duration": 6.62318,
     "end_time": "2022-11-25T18:24:50.171867",
     "exception": false,
     "start_time": "2022-11-25T18:24:43.548687",
     "status": "completed"
    },
    "tags": []
   },
   "outputs": [
    {
     "name": "stderr",
     "output_type": "stream",
     "text": [
      "C:\\Users\\aaabh\\AppData\\Local\\Temp\\ipykernel_15688\\4103963842.py:1: SettingWithCopyWarning: \n",
      "A value is trying to be set on a copy of a slice from a DataFrame.\n",
      "Try using .loc[row_indexer,col_indexer] = value instead\n",
      "\n",
      "See the caveats in the documentation: https://pandas.pydata.org/pandas-docs/stable/user_guide/indexing.html#returning-a-view-versus-a-copy\n",
      "  df['tweet_text'] = df.apply(preprocess_tweet, axis=1)\n"
     ]
    }
   ],
   "source": [
    "df['tweet_text'] = df.apply(preprocess_tweet, axis=1)"
   ]
  },
  {
   "cell_type": "code",
   "execution_count": 34,
   "id": "79578e3d",
   "metadata": {
    "execution": {
     "iopub.execute_input": "2022-11-25T18:24:50.199216Z",
     "iopub.status.busy": "2022-11-25T18:24:50.198904Z",
     "iopub.status.idle": "2022-11-25T18:24:50.209807Z",
     "shell.execute_reply": "2022-11-25T18:24:50.208782Z"
    },
    "papermill": {
     "duration": 0.027059,
     "end_time": "2022-11-25T18:24:50.212107",
     "exception": false,
     "start_time": "2022-11-25T18:24:50.185048",
     "status": "completed"
    },
    "tags": []
   },
   "outputs": [
    {
     "data": {
      "text/html": [
       "<div>\n",
       "<style scoped>\n",
       "    .dataframe tbody tr th:only-of-type {\n",
       "        vertical-align: middle;\n",
       "    }\n",
       "\n",
       "    .dataframe tbody tr th {\n",
       "        vertical-align: top;\n",
       "    }\n",
       "\n",
       "    .dataframe thead th {\n",
       "        text-align: right;\n",
       "    }\n",
       "</style>\n",
       "<table border=\"1\" class=\"dataframe\">\n",
       "  <thead>\n",
       "    <tr style=\"text-align: right;\">\n",
       "      <th></th>\n",
       "      <th>tweet_text</th>\n",
       "      <th>cyberbullying_type</th>\n",
       "    </tr>\n",
       "  </thead>\n",
       "  <tbody>\n",
       "    <tr>\n",
       "      <th>0</th>\n",
       "      <td>In other words , your food was crapilicious!</td>\n",
       "      <td>not_cyberbullying</td>\n",
       "    </tr>\n",
       "    <tr>\n",
       "      <th>1</th>\n",
       "      <td>Why is so white?</td>\n",
       "      <td>not_cyberbullying</td>\n",
       "    </tr>\n",
       "    <tr>\n",
       "      <th>2</th>\n",
       "      <td>a classy whore? Or more red velvet cupcakes?</td>\n",
       "      <td>not_cyberbullying</td>\n",
       "    </tr>\n",
       "    <tr>\n",
       "      <th>3</th>\n",
       "      <td>meh. thanks for the heads up, but not too conc...</td>\n",
       "      <td>not_cyberbullying</td>\n",
       "    </tr>\n",
       "    <tr>\n",
       "      <th>4</th>\n",
       "      <td>This is an ISIS account pretending to be a Kur...</td>\n",
       "      <td>not_cyberbullying</td>\n",
       "    </tr>\n",
       "  </tbody>\n",
       "</table>\n",
       "</div>"
      ],
      "text/plain": [
       "                                          tweet_text cyberbullying_type\n",
       "0       In other words , your food was crapilicious!  not_cyberbullying\n",
       "1                                   Why is so white?  not_cyberbullying\n",
       "2       a classy whore? Or more red velvet cupcakes?  not_cyberbullying\n",
       "3  meh. thanks for the heads up, but not too conc...  not_cyberbullying\n",
       "4  This is an ISIS account pretending to be a Kur...  not_cyberbullying"
      ]
     },
     "execution_count": 34,
     "metadata": {},
     "output_type": "execute_result"
    }
   ],
   "source": [
    "df.head()"
   ]
  },
  {
   "cell_type": "markdown",
   "id": "4cbb12bd",
   "metadata": {
    "papermill": {
     "duration": 0.01249,
     "end_time": "2022-11-25T18:24:50.263401",
     "exception": false,
     "start_time": "2022-11-25T18:24:50.250911",
     "status": "completed"
    },
    "tags": []
   },
   "source": [
    "# Removing stop words\n",
    "\n",
    "**What are stop words?**\n",
    "\n",
    "Stop words are basically a set of commonly used words in any language, not just English.\n",
    "\n",
    "The reason why stop words are critical to many applications is that, if we remove the words that are very commonly used in a given language, we can focus on the important words instead.\n",
    "\n",
    "**Why do we need to remove stop words?**\n",
    "\n",
    "Here are a few key benefits of removing stopwords:\n",
    "\n",
    "* On removing stopwords, dataset size decreases and the time to train the model also decreases.\n",
    "* Removing stopwords can potentially help improve the performance as there are fewer and only meaningful tokens left. Thus, it could increase classification accuracy.\n",
    "* Even search engines like Google remove stopwords for fast and relevant retrieval of data from the database.\n",
    " \n",
    "\n"
   ]
  },
  {
   "cell_type": "code",
   "execution_count": 35,
   "id": "3c4a0b81",
   "metadata": {},
   "outputs": [],
   "source": [
    "# REMOVING STOPWORDS"
   ]
  },
  {
   "cell_type": "code",
   "execution_count": 37,
   "id": "839e00fa",
   "metadata": {},
   "outputs": [
    {
     "name": "stdout",
     "output_type": "stream",
     "text": [
      "Collecting gensim\n",
      "  Downloading gensim-4.3.1-cp310-cp310-win_amd64.whl (24.0 MB)\n",
      "     ---------------------------------------- 0.0/24.0 MB ? eta -:--:--\n",
      "     ---------------------------------------- 0.0/24.0 MB ? eta -:--:--\n",
      "     ---------------------------------------- 0.1/24.0 MB 1.5 MB/s eta 0:00:16\n",
      "     ---------------------------------------- 0.1/24.0 MB 1.4 MB/s eta 0:00:17\n",
      "     ---------------------------------------- 0.2/24.0 MB 1.5 MB/s eta 0:00:17\n",
      "     ---------------------------------------- 0.3/24.0 MB 1.4 MB/s eta 0:00:17\n",
      "      --------------------------------------- 0.3/24.0 MB 1.6 MB/s eta 0:00:15\n",
      "      --------------------------------------- 0.4/24.0 MB 1.6 MB/s eta 0:00:15\n",
      "      --------------------------------------- 0.4/24.0 MB 1.5 MB/s eta 0:00:16\n",
      "      --------------------------------------- 0.5/24.0 MB 1.5 MB/s eta 0:00:16\n",
      "      --------------------------------------- 0.6/24.0 MB 1.5 MB/s eta 0:00:16\n",
      "     - -------------------------------------- 0.6/24.0 MB 1.5 MB/s eta 0:00:16\n",
      "     - -------------------------------------- 0.7/24.0 MB 1.5 MB/s eta 0:00:16\n",
      "     - -------------------------------------- 0.8/24.0 MB 1.6 MB/s eta 0:00:15\n",
      "     - -------------------------------------- 0.9/24.0 MB 1.6 MB/s eta 0:00:15\n",
      "     - -------------------------------------- 0.9/24.0 MB 1.7 MB/s eta 0:00:14\n",
      "     - -------------------------------------- 1.0/24.0 MB 1.6 MB/s eta 0:00:15\n",
      "     - -------------------------------------- 1.1/24.0 MB 1.7 MB/s eta 0:00:14\n",
      "     - -------------------------------------- 1.2/24.0 MB 1.7 MB/s eta 0:00:14\n",
      "     - -------------------------------------- 1.2/24.0 MB 1.7 MB/s eta 0:00:14\n",
      "     -- ------------------------------------- 1.3/24.0 MB 1.7 MB/s eta 0:00:14\n",
      "     -- ------------------------------------- 1.4/24.0 MB 1.7 MB/s eta 0:00:14\n",
      "     -- ------------------------------------- 1.5/24.0 MB 1.7 MB/s eta 0:00:14\n",
      "     -- ------------------------------------- 1.5/24.0 MB 1.7 MB/s eta 0:00:14\n",
      "     -- ------------------------------------- 1.7/24.0 MB 1.8 MB/s eta 0:00:13\n",
      "     -- ------------------------------------- 1.8/24.0 MB 1.8 MB/s eta 0:00:13\n",
      "     --- ------------------------------------ 1.9/24.0 MB 1.8 MB/s eta 0:00:13\n",
      "     --- ------------------------------------ 2.0/24.0 MB 1.8 MB/s eta 0:00:13\n",
      "     --- ------------------------------------ 2.1/24.0 MB 1.9 MB/s eta 0:00:12\n",
      "     --- ------------------------------------ 2.2/24.0 MB 1.9 MB/s eta 0:00:12\n",
      "     --- ------------------------------------ 2.2/24.0 MB 1.9 MB/s eta 0:00:12\n",
      "     --- ------------------------------------ 2.4/24.0 MB 1.9 MB/s eta 0:00:12\n",
      "     ---- ----------------------------------- 2.5/24.0 MB 2.0 MB/s eta 0:00:11\n",
      "     ---- ----------------------------------- 2.6/24.0 MB 2.0 MB/s eta 0:00:11\n",
      "     ---- ----------------------------------- 2.7/24.0 MB 2.0 MB/s eta 0:00:11\n",
      "     ---- ----------------------------------- 2.8/24.0 MB 2.0 MB/s eta 0:00:11\n",
      "     ---- ----------------------------------- 2.9/24.0 MB 2.0 MB/s eta 0:00:11\n",
      "     ---- ----------------------------------- 3.0/24.0 MB 2.1 MB/s eta 0:00:11\n",
      "     ----- ---------------------------------- 3.1/24.0 MB 2.1 MB/s eta 0:00:10\n",
      "     ----- ---------------------------------- 3.2/24.0 MB 2.1 MB/s eta 0:00:10\n",
      "     ----- ---------------------------------- 3.3/24.0 MB 2.1 MB/s eta 0:00:10\n",
      "     ----- ---------------------------------- 3.5/24.0 MB 2.2 MB/s eta 0:00:10\n",
      "     ----- ---------------------------------- 3.6/24.0 MB 2.2 MB/s eta 0:00:10\n",
      "     ------ --------------------------------- 3.7/24.0 MB 2.2 MB/s eta 0:00:10\n",
      "     ------ --------------------------------- 3.8/24.0 MB 2.2 MB/s eta 0:00:10\n",
      "     ------ --------------------------------- 3.9/24.0 MB 2.2 MB/s eta 0:00:10\n",
      "     ------ --------------------------------- 4.1/24.0 MB 2.2 MB/s eta 0:00:09\n",
      "     ------ --------------------------------- 4.1/24.0 MB 2.2 MB/s eta 0:00:09\n",
      "     ------ --------------------------------- 4.2/24.0 MB 2.2 MB/s eta 0:00:09\n",
      "     ------- -------------------------------- 4.2/24.0 MB 2.2 MB/s eta 0:00:10\n",
      "     ------- -------------------------------- 4.3/24.0 MB 2.2 MB/s eta 0:00:09\n",
      "     ------- -------------------------------- 4.4/24.0 MB 2.2 MB/s eta 0:00:09\n",
      "     ------- -------------------------------- 4.6/24.0 MB 2.2 MB/s eta 0:00:09\n",
      "     ------- -------------------------------- 4.6/24.0 MB 2.2 MB/s eta 0:00:09\n",
      "     ------- -------------------------------- 4.7/24.0 MB 2.2 MB/s eta 0:00:09\n",
      "     ------- -------------------------------- 4.8/24.0 MB 2.2 MB/s eta 0:00:09\n",
      "     -------- ------------------------------- 4.9/24.0 MB 2.2 MB/s eta 0:00:09\n",
      "     -------- ------------------------------- 5.0/24.0 MB 2.2 MB/s eta 0:00:09\n",
      "     -------- ------------------------------- 5.1/24.0 MB 2.2 MB/s eta 0:00:09\n",
      "     -------- ------------------------------- 5.2/24.0 MB 2.2 MB/s eta 0:00:09\n",
      "     -------- ------------------------------- 5.4/24.0 MB 2.3 MB/s eta 0:00:09\n",
      "     --------- ------------------------------ 5.5/24.0 MB 2.3 MB/s eta 0:00:09\n",
      "     --------- ------------------------------ 5.6/24.0 MB 2.3 MB/s eta 0:00:09\n",
      "     --------- ------------------------------ 5.7/24.0 MB 2.3 MB/s eta 0:00:09\n",
      "     --------- ------------------------------ 5.7/24.0 MB 2.3 MB/s eta 0:00:09\n",
      "     --------- ------------------------------ 5.8/24.0 MB 2.3 MB/s eta 0:00:09\n",
      "     --------- ------------------------------ 5.9/24.0 MB 2.2 MB/s eta 0:00:09\n",
      "     ---------- ----------------------------- 6.0/24.0 MB 2.3 MB/s eta 0:00:08\n",
      "     ---------- ----------------------------- 6.1/24.0 MB 2.3 MB/s eta 0:00:08\n",
      "     ---------- ----------------------------- 6.2/24.0 MB 2.3 MB/s eta 0:00:08\n",
      "     ---------- ----------------------------- 6.3/24.0 MB 2.3 MB/s eta 0:00:08\n",
      "     ---------- ----------------------------- 6.4/24.0 MB 2.3 MB/s eta 0:00:08\n",
      "     ---------- ----------------------------- 6.5/24.0 MB 2.3 MB/s eta 0:00:08\n",
      "     ----------- ---------------------------- 6.6/24.0 MB 2.3 MB/s eta 0:00:08\n",
      "     ----------- ---------------------------- 6.7/24.0 MB 2.3 MB/s eta 0:00:08\n",
      "     ----------- ---------------------------- 6.8/24.0 MB 2.3 MB/s eta 0:00:08\n",
      "     ----------- ---------------------------- 6.9/24.0 MB 2.3 MB/s eta 0:00:08\n",
      "     ----------- ---------------------------- 7.0/24.0 MB 2.3 MB/s eta 0:00:08\n",
      "     ----------- ---------------------------- 7.1/24.0 MB 2.3 MB/s eta 0:00:08\n",
      "     ----------- ---------------------------- 7.2/24.0 MB 2.3 MB/s eta 0:00:08\n",
      "     ------------ --------------------------- 7.3/24.0 MB 2.3 MB/s eta 0:00:08\n",
      "     ------------ --------------------------- 7.4/24.0 MB 2.3 MB/s eta 0:00:08\n",
      "     ------------ --------------------------- 7.5/24.0 MB 2.3 MB/s eta 0:00:08\n",
      "     ------------ --------------------------- 7.5/24.0 MB 2.3 MB/s eta 0:00:08\n",
      "     ------------ --------------------------- 7.7/24.0 MB 2.3 MB/s eta 0:00:08\n",
      "     ------------- -------------------------- 7.8/24.0 MB 2.3 MB/s eta 0:00:07\n",
      "     ------------- -------------------------- 7.9/24.0 MB 2.3 MB/s eta 0:00:07\n",
      "     ------------- -------------------------- 8.0/24.0 MB 2.3 MB/s eta 0:00:07\n",
      "     ------------- -------------------------- 8.1/24.0 MB 2.3 MB/s eta 0:00:07\n",
      "     ------------- -------------------------- 8.2/24.0 MB 2.3 MB/s eta 0:00:07\n",
      "     ------------- -------------------------- 8.4/24.0 MB 2.3 MB/s eta 0:00:07\n",
      "     -------------- ------------------------- 8.5/24.0 MB 2.3 MB/s eta 0:00:07\n",
      "     -------------- ------------------------- 8.6/24.0 MB 2.3 MB/s eta 0:00:07\n",
      "     -------------- ------------------------- 8.7/24.0 MB 2.3 MB/s eta 0:00:07\n",
      "     -------------- ------------------------- 8.8/24.0 MB 2.3 MB/s eta 0:00:07\n",
      "     -------------- ------------------------- 8.9/24.0 MB 2.3 MB/s eta 0:00:07\n",
      "     --------------- ------------------------ 9.0/24.0 MB 2.3 MB/s eta 0:00:07\n",
      "     --------------- ------------------------ 9.1/24.0 MB 2.4 MB/s eta 0:00:07\n",
      "     --------------- ------------------------ 9.2/24.0 MB 2.3 MB/s eta 0:00:07\n",
      "     --------------- ------------------------ 9.3/24.0 MB 2.4 MB/s eta 0:00:07\n",
      "     --------------- ------------------------ 9.3/24.0 MB 2.4 MB/s eta 0:00:07\n",
      "     --------------- ------------------------ 9.5/24.0 MB 2.4 MB/s eta 0:00:07\n",
      "     --------------- ------------------------ 9.5/24.0 MB 2.4 MB/s eta 0:00:07\n",
      "     ---------------- ----------------------- 9.6/24.0 MB 2.3 MB/s eta 0:00:07\n",
      "     ---------------- ----------------------- 9.7/24.0 MB 2.3 MB/s eta 0:00:07\n",
      "     ---------------- ----------------------- 9.8/24.0 MB 2.3 MB/s eta 0:00:07\n",
      "     ---------------- ----------------------- 9.9/24.0 MB 2.3 MB/s eta 0:00:06\n",
      "     ---------------- ----------------------- 10.0/24.0 MB 2.3 MB/s eta 0:00:06\n",
      "     ---------------- ----------------------- 10.1/24.0 MB 2.3 MB/s eta 0:00:06\n",
      "     ---------------- ----------------------- 10.2/24.0 MB 2.3 MB/s eta 0:00:06\n",
      "     ----------------- ---------------------- 10.3/24.0 MB 2.4 MB/s eta 0:00:06\n",
      "     ----------------- ---------------------- 10.4/24.0 MB 2.4 MB/s eta 0:00:06\n",
      "     ----------------- ---------------------- 10.5/24.0 MB 2.4 MB/s eta 0:00:06\n",
      "     ----------------- ---------------------- 10.5/24.0 MB 2.4 MB/s eta 0:00:06\n",
      "     ----------------- ---------------------- 10.7/24.0 MB 2.4 MB/s eta 0:00:06\n",
      "     ----------------- ---------------------- 10.8/24.0 MB 2.4 MB/s eta 0:00:06\n",
      "     ------------------ --------------------- 10.9/24.0 MB 2.5 MB/s eta 0:00:06\n",
      "     ------------------ --------------------- 11.0/24.0 MB 2.4 MB/s eta 0:00:06\n",
      "     ------------------ --------------------- 11.0/24.0 MB 2.4 MB/s eta 0:00:06\n",
      "     ------------------ --------------------- 11.1/24.0 MB 2.4 MB/s eta 0:00:06\n",
      "     ------------------ --------------------- 11.2/24.0 MB 2.5 MB/s eta 0:00:06\n",
      "     ------------------ --------------------- 11.3/24.0 MB 2.4 MB/s eta 0:00:06\n",
      "     ------------------ --------------------- 11.4/24.0 MB 2.4 MB/s eta 0:00:06\n",
      "     ------------------- -------------------- 11.5/24.0 MB 2.5 MB/s eta 0:00:06\n",
      "     ------------------- -------------------- 11.6/24.0 MB 2.5 MB/s eta 0:00:06\n",
      "     ------------------- -------------------- 11.6/24.0 MB 2.5 MB/s eta 0:00:05\n",
      "     ------------------- -------------------- 11.7/24.0 MB 2.5 MB/s eta 0:00:05\n",
      "     ------------------- -------------------- 11.8/24.0 MB 2.5 MB/s eta 0:00:05\n",
      "     ------------------- -------------------- 11.9/24.0 MB 2.5 MB/s eta 0:00:05\n",
      "     -------------------- ------------------- 12.0/24.0 MB 2.5 MB/s eta 0:00:05\n",
      "     -------------------- ------------------- 12.1/24.0 MB 2.5 MB/s eta 0:00:05\n",
      "     -------------------- ------------------- 12.2/24.0 MB 2.5 MB/s eta 0:00:05\n",
      "     -------------------- ------------------- 12.3/24.0 MB 2.4 MB/s eta 0:00:05\n",
      "     -------------------- ------------------- 12.4/24.0 MB 2.5 MB/s eta 0:00:05\n",
      "     -------------------- ------------------- 12.5/24.0 MB 2.5 MB/s eta 0:00:05\n",
      "     --------------------- ------------------ 12.6/24.0 MB 2.5 MB/s eta 0:00:05\n",
      "     --------------------- ------------------ 12.7/24.0 MB 2.5 MB/s eta 0:00:05\n",
      "     --------------------- ------------------ 12.8/24.0 MB 2.5 MB/s eta 0:00:05\n",
      "     --------------------- ------------------ 12.9/24.0 MB 2.5 MB/s eta 0:00:05\n",
      "     --------------------- ------------------ 13.0/24.0 MB 2.5 MB/s eta 0:00:05\n",
      "     --------------------- ------------------ 13.1/24.0 MB 2.4 MB/s eta 0:00:05\n",
      "     ---------------------- ----------------- 13.2/24.0 MB 2.4 MB/s eta 0:00:05\n",
      "     ---------------------- ----------------- 13.3/24.0 MB 2.4 MB/s eta 0:00:05\n",
      "     ---------------------- ----------------- 13.4/24.0 MB 2.4 MB/s eta 0:00:05\n",
      "     ---------------------- ----------------- 13.4/24.0 MB 2.4 MB/s eta 0:00:05\n",
      "     ---------------------- ----------------- 13.5/24.0 MB 2.4 MB/s eta 0:00:05\n",
      "     ---------------------- ----------------- 13.6/24.0 MB 2.4 MB/s eta 0:00:05\n",
      "     ---------------------- ----------------- 13.7/24.0 MB 2.4 MB/s eta 0:00:05\n",
      "     ----------------------- ---------------- 13.8/24.0 MB 2.4 MB/s eta 0:00:05\n",
      "     ----------------------- ---------------- 13.9/24.0 MB 2.4 MB/s eta 0:00:05\n",
      "     ----------------------- ---------------- 14.0/24.0 MB 2.4 MB/s eta 0:00:05\n",
      "     ----------------------- ---------------- 14.1/24.0 MB 2.4 MB/s eta 0:00:05\n",
      "     ----------------------- ---------------- 14.2/24.0 MB 2.4 MB/s eta 0:00:05\n",
      "     ----------------------- ---------------- 14.2/24.0 MB 2.4 MB/s eta 0:00:05\n",
      "     ----------------------- ---------------- 14.3/24.0 MB 2.4 MB/s eta 0:00:05\n",
      "     ------------------------ --------------- 14.4/24.0 MB 2.4 MB/s eta 0:00:05\n",
      "     ------------------------ --------------- 14.5/24.0 MB 2.4 MB/s eta 0:00:04\n",
      "     ------------------------ --------------- 14.6/24.0 MB 2.4 MB/s eta 0:00:04\n",
      "     ------------------------ --------------- 14.7/24.0 MB 2.4 MB/s eta 0:00:04\n",
      "     ------------------------ --------------- 14.7/24.0 MB 2.4 MB/s eta 0:00:04\n",
      "     ------------------------ --------------- 14.8/24.0 MB 2.4 MB/s eta 0:00:04\n",
      "     ------------------------ --------------- 14.9/24.0 MB 2.4 MB/s eta 0:00:04\n",
      "     ------------------------ --------------- 14.9/24.0 MB 2.4 MB/s eta 0:00:04\n",
      "     ------------------------- -------------- 15.0/24.0 MB 2.4 MB/s eta 0:00:04\n",
      "     ------------------------- -------------- 15.1/24.0 MB 2.4 MB/s eta 0:00:04\n",
      "     ------------------------- -------------- 15.2/24.0 MB 2.3 MB/s eta 0:00:04\n",
      "     ------------------------- -------------- 15.2/24.0 MB 2.3 MB/s eta 0:00:04\n",
      "     ------------------------- -------------- 15.3/24.0 MB 2.3 MB/s eta 0:00:04\n",
      "     ------------------------- -------------- 15.4/24.0 MB 2.3 MB/s eta 0:00:04\n",
      "     ------------------------- -------------- 15.5/24.0 MB 2.3 MB/s eta 0:00:04\n",
      "     ------------------------- -------------- 15.5/24.0 MB 2.3 MB/s eta 0:00:04\n",
      "     -------------------------- ------------- 15.6/24.0 MB 2.3 MB/s eta 0:00:04\n",
      "     -------------------------- ------------- 15.6/24.0 MB 2.3 MB/s eta 0:00:04\n",
      "     -------------------------- ------------- 15.7/24.0 MB 2.3 MB/s eta 0:00:04\n",
      "     -------------------------- ------------- 15.8/24.0 MB 2.3 MB/s eta 0:00:04\n",
      "     -------------------------- ------------- 15.9/24.0 MB 2.3 MB/s eta 0:00:04\n",
      "     -------------------------- ------------- 15.9/24.0 MB 2.3 MB/s eta 0:00:04\n",
      "     -------------------------- ------------- 16.0/24.0 MB 2.3 MB/s eta 0:00:04\n",
      "     -------------------------- ------------- 16.1/24.0 MB 2.3 MB/s eta 0:00:04\n",
      "     --------------------------- ------------ 16.2/24.0 MB 2.2 MB/s eta 0:00:04\n",
      "     --------------------------- ------------ 16.2/24.0 MB 2.2 MB/s eta 0:00:04\n",
      "     --------------------------- ------------ 16.4/24.0 MB 2.2 MB/s eta 0:00:04\n",
      "     --------------------------- ------------ 16.4/24.0 MB 2.3 MB/s eta 0:00:04\n",
      "     --------------------------- ------------ 16.5/24.0 MB 2.2 MB/s eta 0:00:04\n",
      "     --------------------------- ------------ 16.6/24.0 MB 2.2 MB/s eta 0:00:04\n",
      "     --------------------------- ------------ 16.6/24.0 MB 2.2 MB/s eta 0:00:04\n",
      "     --------------------------- ------------ 16.7/24.0 MB 2.2 MB/s eta 0:00:04\n",
      "     --------------------------- ------------ 16.7/24.0 MB 2.2 MB/s eta 0:00:04\n",
      "     ---------------------------- ----------- 16.9/24.0 MB 2.2 MB/s eta 0:00:04\n",
      "     ---------------------------- ----------- 16.9/24.0 MB 2.2 MB/s eta 0:00:04\n",
      "     ---------------------------- ----------- 16.9/24.0 MB 2.2 MB/s eta 0:00:04\n",
      "     ---------------------------- ----------- 17.0/24.0 MB 2.2 MB/s eta 0:00:04\n",
      "     ---------------------------- ----------- 17.1/24.0 MB 2.2 MB/s eta 0:00:04\n",
      "     ---------------------------- ----------- 17.2/24.0 MB 2.2 MB/s eta 0:00:04\n",
      "     ---------------------------- ----------- 17.3/24.0 MB 2.2 MB/s eta 0:00:04\n",
      "     ----------------------------- ---------- 17.4/24.0 MB 2.2 MB/s eta 0:00:03\n",
      "     ----------------------------- ---------- 17.4/24.0 MB 2.2 MB/s eta 0:00:03\n",
      "     ----------------------------- ---------- 17.5/24.0 MB 2.2 MB/s eta 0:00:03\n",
      "     ----------------------------- ---------- 17.6/24.0 MB 2.2 MB/s eta 0:00:03\n",
      "     ----------------------------- ---------- 17.7/24.0 MB 2.2 MB/s eta 0:00:03\n",
      "     ----------------------------- ---------- 17.8/24.0 MB 2.2 MB/s eta 0:00:03\n",
      "     ----------------------------- ---------- 17.8/24.0 MB 2.2 MB/s eta 0:00:03\n",
      "     ----------------------------- ---------- 17.9/24.0 MB 2.1 MB/s eta 0:00:03\n",
      "     ------------------------------ --------- 18.0/24.0 MB 2.2 MB/s eta 0:00:03\n",
      "     ------------------------------ --------- 18.0/24.0 MB 2.1 MB/s eta 0:00:03\n",
      "     ------------------------------ --------- 18.2/24.0 MB 2.1 MB/s eta 0:00:03\n",
      "     ------------------------------ --------- 18.2/24.0 MB 2.1 MB/s eta 0:00:03\n",
      "     ------------------------------ --------- 18.2/24.0 MB 2.1 MB/s eta 0:00:03\n",
      "     ------------------------------ --------- 18.2/24.0 MB 2.1 MB/s eta 0:00:03\n",
      "     ------------------------------ --------- 18.4/24.0 MB 2.1 MB/s eta 0:00:03\n",
      "     ------------------------------ --------- 18.4/24.0 MB 2.1 MB/s eta 0:00:03\n",
      "     ------------------------------ --------- 18.5/24.0 MB 2.1 MB/s eta 0:00:03\n",
      "     ------------------------------ --------- 18.5/24.0 MB 2.1 MB/s eta 0:00:03\n",
      "     ------------------------------- -------- 18.6/24.0 MB 2.1 MB/s eta 0:00:03\n",
      "     ------------------------------- -------- 18.7/24.0 MB 2.1 MB/s eta 0:00:03\n",
      "     ------------------------------- -------- 18.7/24.0 MB 2.1 MB/s eta 0:00:03\n",
      "     ------------------------------- -------- 18.8/24.0 MB 2.1 MB/s eta 0:00:03\n",
      "     ------------------------------- -------- 18.8/24.0 MB 2.0 MB/s eta 0:00:03\n",
      "     ------------------------------- -------- 18.9/24.0 MB 2.0 MB/s eta 0:00:03\n",
      "     ------------------------------- -------- 19.0/24.0 MB 2.0 MB/s eta 0:00:03\n",
      "     ------------------------------- -------- 19.1/24.0 MB 2.0 MB/s eta 0:00:03\n",
      "     ------------------------------- -------- 19.1/24.0 MB 2.0 MB/s eta 0:00:03\n",
      "     -------------------------------- ------- 19.2/24.0 MB 2.0 MB/s eta 0:00:03\n",
      "     -------------------------------- ------- 19.2/24.0 MB 2.0 MB/s eta 0:00:03\n",
      "     -------------------------------- ------- 19.3/24.0 MB 2.0 MB/s eta 0:00:03\n",
      "     -------------------------------- ------- 19.4/24.0 MB 2.0 MB/s eta 0:00:03\n",
      "     -------------------------------- ------- 19.4/24.0 MB 2.0 MB/s eta 0:00:03\n",
      "     -------------------------------- ------- 19.5/24.0 MB 2.0 MB/s eta 0:00:03\n",
      "     -------------------------------- ------- 19.5/24.0 MB 2.0 MB/s eta 0:00:03\n",
      "     -------------------------------- ------- 19.6/24.0 MB 2.0 MB/s eta 0:00:03\n",
      "     -------------------------------- ------- 19.7/24.0 MB 2.0 MB/s eta 0:00:03\n",
      "     -------------------------------- ------- 19.7/24.0 MB 2.0 MB/s eta 0:00:03\n",
      "     --------------------------------- ------ 19.8/24.0 MB 2.0 MB/s eta 0:00:03\n",
      "     --------------------------------- ------ 19.8/24.0 MB 2.0 MB/s eta 0:00:03\n",
      "     --------------------------------- ------ 19.9/24.0 MB 1.9 MB/s eta 0:00:03\n",
      "     --------------------------------- ------ 20.0/24.0 MB 1.9 MB/s eta 0:00:03\n",
      "     --------------------------------- ------ 20.1/24.0 MB 1.9 MB/s eta 0:00:02\n",
      "     --------------------------------- ------ 20.1/24.0 MB 1.9 MB/s eta 0:00:02\n",
      "     --------------------------------- ------ 20.2/24.0 MB 1.9 MB/s eta 0:00:02\n",
      "     --------------------------------- ------ 20.3/24.0 MB 1.9 MB/s eta 0:00:02\n",
      "     --------------------------------- ------ 20.3/24.0 MB 1.9 MB/s eta 0:00:02\n",
      "     ---------------------------------- ----- 20.4/24.0 MB 1.9 MB/s eta 0:00:02\n",
      "     ---------------------------------- ----- 20.5/24.0 MB 1.9 MB/s eta 0:00:02\n",
      "     ---------------------------------- ----- 20.5/24.0 MB 1.9 MB/s eta 0:00:02\n",
      "     ---------------------------------- ----- 20.6/24.0 MB 1.9 MB/s eta 0:00:02\n",
      "     ---------------------------------- ----- 20.7/24.0 MB 1.9 MB/s eta 0:00:02\n",
      "     ---------------------------------- ----- 20.7/24.0 MB 1.9 MB/s eta 0:00:02\n",
      "     ---------------------------------- ----- 20.8/24.0 MB 1.9 MB/s eta 0:00:02\n",
      "     ---------------------------------- ----- 20.9/24.0 MB 1.9 MB/s eta 0:00:02\n",
      "     ---------------------------------- ----- 20.9/24.0 MB 1.9 MB/s eta 0:00:02\n",
      "     ----------------------------------- ---- 21.0/24.0 MB 1.9 MB/s eta 0:00:02\n",
      "     ----------------------------------- ---- 21.1/24.0 MB 1.9 MB/s eta 0:00:02\n",
      "     ----------------------------------- ---- 21.1/24.0 MB 1.9 MB/s eta 0:00:02\n",
      "     ----------------------------------- ---- 21.2/24.0 MB 1.9 MB/s eta 0:00:02\n",
      "     ----------------------------------- ---- 21.2/24.0 MB 1.9 MB/s eta 0:00:02\n",
      "     ----------------------------------- ---- 21.3/24.0 MB 1.9 MB/s eta 0:00:02\n",
      "     ----------------------------------- ---- 21.3/24.0 MB 1.8 MB/s eta 0:00:02\n",
      "     ----------------------------------- ---- 21.4/24.0 MB 1.8 MB/s eta 0:00:02\n",
      "     ----------------------------------- ---- 21.4/24.0 MB 1.8 MB/s eta 0:00:02\n",
      "     ----------------------------------- ---- 21.5/24.0 MB 1.8 MB/s eta 0:00:02\n",
      "     ------------------------------------ --- 21.6/24.0 MB 1.8 MB/s eta 0:00:02\n",
      "     ------------------------------------ --- 21.7/24.0 MB 1.8 MB/s eta 0:00:02\n",
      "     ------------------------------------ --- 21.7/24.0 MB 1.8 MB/s eta 0:00:02\n",
      "     ------------------------------------ --- 21.8/24.0 MB 1.8 MB/s eta 0:00:02\n",
      "     ------------------------------------ --- 21.9/24.0 MB 1.8 MB/s eta 0:00:02\n",
      "     ------------------------------------ --- 21.9/24.0 MB 1.8 MB/s eta 0:00:02\n",
      "     ------------------------------------ --- 22.0/24.0 MB 1.8 MB/s eta 0:00:02\n",
      "     ------------------------------------ --- 22.0/24.0 MB 1.8 MB/s eta 0:00:02\n",
      "     ------------------------------------ --- 22.1/24.0 MB 1.8 MB/s eta 0:00:02\n",
      "     ------------------------------------- -- 22.2/24.0 MB 1.8 MB/s eta 0:00:01\n",
      "     ------------------------------------- -- 22.3/24.0 MB 1.8 MB/s eta 0:00:01\n",
      "     ------------------------------------- -- 22.3/24.0 MB 1.8 MB/s eta 0:00:01\n",
      "     ------------------------------------- -- 22.4/24.0 MB 1.8 MB/s eta 0:00:01\n",
      "     ------------------------------------- -- 22.5/24.0 MB 1.8 MB/s eta 0:00:01\n",
      "     ------------------------------------- -- 22.5/24.0 MB 1.8 MB/s eta 0:00:01\n",
      "     ------------------------------------- -- 22.6/24.0 MB 1.8 MB/s eta 0:00:01\n",
      "     ------------------------------------- -- 22.7/24.0 MB 1.8 MB/s eta 0:00:01\n",
      "     -------------------------------------- - 22.8/24.0 MB 1.8 MB/s eta 0:00:01\n",
      "     -------------------------------------- - 22.9/24.0 MB 1.8 MB/s eta 0:00:01\n",
      "     -------------------------------------- - 23.0/24.0 MB 1.8 MB/s eta 0:00:01\n",
      "     -------------------------------------- - 23.1/24.0 MB 1.8 MB/s eta 0:00:01\n",
      "     -------------------------------------- - 23.2/24.0 MB 1.8 MB/s eta 0:00:01\n",
      "     -------------------------------------- - 23.3/24.0 MB 1.8 MB/s eta 0:00:01\n",
      "     ---------------------------------------  23.4/24.0 MB 1.8 MB/s eta 0:00:01\n",
      "     ---------------------------------------  23.6/24.0 MB 1.8 MB/s eta 0:00:01\n",
      "     ---------------------------------------  23.6/24.0 MB 1.8 MB/s eta 0:00:01\n",
      "     ---------------------------------------  23.7/24.0 MB 1.8 MB/s eta 0:00:01\n",
      "     ---------------------------------------  23.8/24.0 MB 1.8 MB/s eta 0:00:01\n",
      "     ---------------------------------------  23.9/24.0 MB 1.8 MB/s eta 0:00:01\n",
      "     ---------------------------------------  24.0/24.0 MB 1.8 MB/s eta 0:00:01\n",
      "     ---------------------------------------  24.0/24.0 MB 1.8 MB/s eta 0:00:01\n",
      "     ---------------------------------------- 24.0/24.0 MB 1.8 MB/s eta 0:00:00\n",
      "Requirement already satisfied: numpy>=1.18.5 in c:\\users\\aaabh\\anaconda3\\envs\\tensorflow_env\\lib\\site-packages (from gensim) (1.24.3)\n",
      "Requirement already satisfied: smart-open>=1.8.1 in c:\\users\\aaabh\\anaconda3\\envs\\tensorflow_env\\lib\\site-packages (from gensim) (6.3.0)\n",
      "Requirement already satisfied: scipy>=1.7.0 in c:\\users\\aaabh\\anaconda3\\envs\\tensorflow_env\\lib\\site-packages (from gensim) (1.10.1)\n",
      "Installing collected packages: gensim\n",
      "Successfully installed gensim-4.3.1\n",
      "Note: you may need to restart the kernel to use updated packages.\n"
     ]
    }
   ],
   "source": [
    "pip install gensim"
   ]
  },
  {
   "cell_type": "code",
   "execution_count": 38,
   "id": "6e6137dd",
   "metadata": {
    "execution": {
     "iopub.execute_input": "2022-11-25T18:24:50.291407Z",
     "iopub.status.busy": "2022-11-25T18:24:50.289960Z",
     "iopub.status.idle": "2022-11-25T18:24:50.437911Z",
     "shell.execute_reply": "2022-11-25T18:24:50.437054Z"
    },
    "papermill": {
     "duration": 0.163652,
     "end_time": "2022-11-25T18:24:50.439938",
     "exception": false,
     "start_time": "2022-11-25T18:24:50.276286",
     "status": "completed"
    },
    "tags": []
   },
   "outputs": [
    {
     "name": "stderr",
     "output_type": "stream",
     "text": [
      "C:\\Users\\aaabh\\anaconda3\\envs\\tensorflow_env\\lib\\site-packages\\paramiko\\transport.py:219: CryptographyDeprecationWarning: Blowfish has been deprecated\n",
      "  \"class\": algorithms.Blowfish,\n"
     ]
    }
   ],
   "source": [
    "from gensim.parsing.preprocessing import remove_stopwords"
   ]
  },
  {
   "cell_type": "code",
   "execution_count": 39,
   "id": "e61a926c",
   "metadata": {
    "execution": {
     "iopub.execute_input": "2022-11-25T18:24:50.494086Z",
     "iopub.status.busy": "2022-11-25T18:24:50.492655Z",
     "iopub.status.idle": "2022-11-25T18:24:50.498268Z",
     "shell.execute_reply": "2022-11-25T18:24:50.497375Z"
    },
    "papermill": {
     "duration": 0.021542,
     "end_time": "2022-11-25T18:24:50.500453",
     "exception": false,
     "start_time": "2022-11-25T18:24:50.478911",
     "status": "completed"
    },
    "tags": []
   },
   "outputs": [],
   "source": [
    "def stopword_removal(row):\n",
    "    text = row['tweet_text']\n",
    "    text = remove_stopwords(text)\n",
    "    return text"
   ]
  },
  {
   "cell_type": "code",
   "execution_count": 40,
   "id": "3bac6a07",
   "metadata": {
    "execution": {
     "iopub.execute_input": "2022-11-25T18:24:50.528143Z",
     "iopub.status.busy": "2022-11-25T18:24:50.526756Z",
     "iopub.status.idle": "2022-11-25T18:24:51.194860Z",
     "shell.execute_reply": "2022-11-25T18:24:51.193894Z"
    },
    "papermill": {
     "duration": 0.684489,
     "end_time": "2022-11-25T18:24:51.197770",
     "exception": false,
     "start_time": "2022-11-25T18:24:50.513281",
     "status": "completed"
    },
    "tags": []
   },
   "outputs": [
    {
     "name": "stderr",
     "output_type": "stream",
     "text": [
      "C:\\Users\\aaabh\\AppData\\Local\\Temp\\ipykernel_15688\\203576233.py:1: SettingWithCopyWarning: \n",
      "A value is trying to be set on a copy of a slice from a DataFrame.\n",
      "Try using .loc[row_indexer,col_indexer] = value instead\n",
      "\n",
      "See the caveats in the documentation: https://pandas.pydata.org/pandas-docs/stable/user_guide/indexing.html#returning-a-view-versus-a-copy\n",
      "  df['tweet_text'] = df.apply(stopword_removal, axis=1)\n"
     ]
    }
   ],
   "source": [
    "df['tweet_text'] = df.apply(stopword_removal, axis=1)"
   ]
  },
  {
   "cell_type": "code",
   "execution_count": 41,
   "id": "9246b6ca",
   "metadata": {
    "execution": {
     "iopub.execute_input": "2022-11-25T18:24:51.227433Z",
     "iopub.status.busy": "2022-11-25T18:24:51.226024Z",
     "iopub.status.idle": "2022-11-25T18:24:51.236876Z",
     "shell.execute_reply": "2022-11-25T18:24:51.236046Z"
    },
    "papermill": {
     "duration": 0.02667,
     "end_time": "2022-11-25T18:24:51.238840",
     "exception": false,
     "start_time": "2022-11-25T18:24:51.212170",
     "status": "completed"
    },
    "tags": []
   },
   "outputs": [
    {
     "data": {
      "text/html": [
       "<div>\n",
       "<style scoped>\n",
       "    .dataframe tbody tr th:only-of-type {\n",
       "        vertical-align: middle;\n",
       "    }\n",
       "\n",
       "    .dataframe tbody tr th {\n",
       "        vertical-align: top;\n",
       "    }\n",
       "\n",
       "    .dataframe thead th {\n",
       "        text-align: right;\n",
       "    }\n",
       "</style>\n",
       "<table border=\"1\" class=\"dataframe\">\n",
       "  <thead>\n",
       "    <tr style=\"text-align: right;\">\n",
       "      <th></th>\n",
       "      <th>tweet_text</th>\n",
       "      <th>cyberbullying_type</th>\n",
       "    </tr>\n",
       "  </thead>\n",
       "  <tbody>\n",
       "    <tr>\n",
       "      <th>0</th>\n",
       "      <td>In words , food crapilicious!</td>\n",
       "      <td>not_cyberbullying</td>\n",
       "    </tr>\n",
       "    <tr>\n",
       "      <th>1</th>\n",
       "      <td>Why white?</td>\n",
       "      <td>not_cyberbullying</td>\n",
       "    </tr>\n",
       "    <tr>\n",
       "      <th>2</th>\n",
       "      <td>classy whore? Or red velvet cupcakes?</td>\n",
       "      <td>not_cyberbullying</td>\n",
       "    </tr>\n",
       "    <tr>\n",
       "      <th>3</th>\n",
       "      <td>meh. thanks heads up, concerned angry dude twi...</td>\n",
       "      <td>not_cyberbullying</td>\n",
       "    </tr>\n",
       "    <tr>\n",
       "      <th>4</th>\n",
       "      <td>This ISIS account pretending Kurdish account. ...</td>\n",
       "      <td>not_cyberbullying</td>\n",
       "    </tr>\n",
       "  </tbody>\n",
       "</table>\n",
       "</div>"
      ],
      "text/plain": [
       "                                          tweet_text cyberbullying_type\n",
       "0                      In words , food crapilicious!  not_cyberbullying\n",
       "1                                         Why white?  not_cyberbullying\n",
       "2              classy whore? Or red velvet cupcakes?  not_cyberbullying\n",
       "3  meh. thanks heads up, concerned angry dude twi...  not_cyberbullying\n",
       "4  This ISIS account pretending Kurdish account. ...  not_cyberbullying"
      ]
     },
     "execution_count": 41,
     "metadata": {},
     "output_type": "execute_result"
    }
   ],
   "source": [
    "df.head()"
   ]
  },
  {
   "cell_type": "code",
   "execution_count": 42,
   "id": "813f063e",
   "metadata": {
    "execution": {
     "iopub.execute_input": "2022-11-25T18:24:51.318991Z",
     "iopub.status.busy": "2022-11-25T18:24:51.318076Z",
     "iopub.status.idle": "2022-11-25T18:24:51.551197Z",
     "shell.execute_reply": "2022-11-25T18:24:51.550219Z"
    },
    "papermill": {
     "duration": 0.250067,
     "end_time": "2022-11-25T18:24:51.554022",
     "exception": false,
     "start_time": "2022-11-25T18:24:51.303955",
     "status": "completed"
    },
    "tags": []
   },
   "outputs": [
    {
     "name": "stderr",
     "output_type": "stream",
     "text": [
      "C:\\Users\\aaabh\\AppData\\Local\\Temp\\ipykernel_15688\\1777320700.py:1: SettingWithCopyWarning: \n",
      "A value is trying to be set on a copy of a slice from a DataFrame.\n",
      "Try using .loc[row_indexer,col_indexer] = value instead\n",
      "\n",
      "See the caveats in the documentation: https://pandas.pydata.org/pandas-docs/stable/user_guide/indexing.html#returning-a-view-versus-a-copy\n",
      "  df['tweet_text'] = df['tweet_text'].str.lower().str.replace('[^\\w\\s]',' ').str.replace('\\s\\s+', ' ')\n"
     ]
    }
   ],
   "source": [
    "df['tweet_text'] = df['tweet_text'].str.lower().str.replace('[^\\w\\s]',' ').str.replace('\\s\\s+', ' ')"
   ]
  },
  {
   "cell_type": "code",
   "execution_count": 43,
   "id": "9a386589",
   "metadata": {
    "execution": {
     "iopub.execute_input": "2022-11-25T18:24:51.584587Z",
     "iopub.status.busy": "2022-11-25T18:24:51.583008Z",
     "iopub.status.idle": "2022-11-25T18:24:51.593478Z",
     "shell.execute_reply": "2022-11-25T18:24:51.592450Z"
    },
    "papermill": {
     "duration": 0.026772,
     "end_time": "2022-11-25T18:24:51.595545",
     "exception": false,
     "start_time": "2022-11-25T18:24:51.568773",
     "status": "completed"
    },
    "scrolled": true,
    "tags": []
   },
   "outputs": [
    {
     "data": {
      "text/html": [
       "<div>\n",
       "<style scoped>\n",
       "    .dataframe tbody tr th:only-of-type {\n",
       "        vertical-align: middle;\n",
       "    }\n",
       "\n",
       "    .dataframe tbody tr th {\n",
       "        vertical-align: top;\n",
       "    }\n",
       "\n",
       "    .dataframe thead th {\n",
       "        text-align: right;\n",
       "    }\n",
       "</style>\n",
       "<table border=\"1\" class=\"dataframe\">\n",
       "  <thead>\n",
       "    <tr style=\"text-align: right;\">\n",
       "      <th></th>\n",
       "      <th>tweet_text</th>\n",
       "      <th>cyberbullying_type</th>\n",
       "    </tr>\n",
       "  </thead>\n",
       "  <tbody>\n",
       "    <tr>\n",
       "      <th>0</th>\n",
       "      <td>in words , food crapilicious!</td>\n",
       "      <td>not_cyberbullying</td>\n",
       "    </tr>\n",
       "    <tr>\n",
       "      <th>1</th>\n",
       "      <td>why white?</td>\n",
       "      <td>not_cyberbullying</td>\n",
       "    </tr>\n",
       "    <tr>\n",
       "      <th>2</th>\n",
       "      <td>classy whore? or red velvet cupcakes?</td>\n",
       "      <td>not_cyberbullying</td>\n",
       "    </tr>\n",
       "    <tr>\n",
       "      <th>3</th>\n",
       "      <td>meh. thanks heads up, concerned angry dude twi...</td>\n",
       "      <td>not_cyberbullying</td>\n",
       "    </tr>\n",
       "    <tr>\n",
       "      <th>4</th>\n",
       "      <td>this isis account pretending kurdish account. ...</td>\n",
       "      <td>not_cyberbullying</td>\n",
       "    </tr>\n",
       "  </tbody>\n",
       "</table>\n",
       "</div>"
      ],
      "text/plain": [
       "                                          tweet_text cyberbullying_type\n",
       "0                      in words , food crapilicious!  not_cyberbullying\n",
       "1                                         why white?  not_cyberbullying\n",
       "2              classy whore? or red velvet cupcakes?  not_cyberbullying\n",
       "3  meh. thanks heads up, concerned angry dude twi...  not_cyberbullying\n",
       "4  this isis account pretending kurdish account. ...  not_cyberbullying"
      ]
     },
     "execution_count": 43,
     "metadata": {},
     "output_type": "execute_result"
    }
   ],
   "source": [
    "df.head()"
   ]
  },
  {
   "cell_type": "code",
   "execution_count": null,
   "id": "5d98bef0",
   "metadata": {},
   "outputs": [],
   "source": [
    "# TOKENIZATION"
   ]
  },
  {
   "cell_type": "code",
   "execution_count": null,
   "id": "d777d402",
   "metadata": {
    "execution": {
     "iopub.execute_input": "2022-11-25T18:24:51.651089Z",
     "iopub.status.busy": "2022-11-25T18:24:51.650792Z",
     "iopub.status.idle": "2022-11-25T18:24:56.594368Z",
     "shell.execute_reply": "2022-11-25T18:24:56.593399Z"
    },
    "papermill": {
     "duration": 4.961192,
     "end_time": "2022-11-25T18:24:56.597556",
     "exception": false,
     "start_time": "2022-11-25T18:24:51.636364",
     "status": "completed"
    },
    "tags": []
   },
   "outputs": [],
   "source": [
    "def length(text):\n",
    "    return len(word_tokenize(text))\n",
    "df['word_count'] = df['tweet_text'].apply(length)"
   ]
  },
  {
   "cell_type": "code",
   "execution_count": null,
   "id": "0f938b95",
   "metadata": {
    "execution": {
     "iopub.execute_input": "2022-11-25T18:24:56.628347Z",
     "iopub.status.busy": "2022-11-25T18:24:56.627481Z",
     "iopub.status.idle": "2022-11-25T18:24:57.469223Z",
     "shell.execute_reply": "2022-11-25T18:24:57.467985Z"
    },
    "papermill": {
     "duration": 0.85972,
     "end_time": "2022-11-25T18:24:57.472459",
     "exception": false,
     "start_time": "2022-11-25T18:24:56.612739",
     "status": "completed"
    },
    "tags": []
   },
   "outputs": [],
   "source": [
    "fig = px.histogram(df, x=\"word_count\", color=\"cyberbullying_type\", title=\"Words in the tweet (including very long tweets)\")\n",
    "fig.show()\n",
    "px.histogram(df[df.word_count<900], x=\"word_count\", color=\"cyberbullying_type\", title=\"Words in the tweet (excluding very long tweets)\")"
   ]
  },
  {
   "cell_type": "code",
   "execution_count": null,
   "id": "1b6b23ff",
   "metadata": {
    "execution": {
     "iopub.execute_input": "2022-11-25T18:24:57.543048Z",
     "iopub.status.busy": "2022-11-25T18:24:57.542731Z",
     "iopub.status.idle": "2022-11-25T18:25:03.977100Z",
     "shell.execute_reply": "2022-11-25T18:25:03.975782Z"
    },
    "papermill": {
     "duration": 6.456633,
     "end_time": "2022-11-25T18:25:03.981180",
     "exception": false,
     "start_time": "2022-11-25T18:24:57.524547",
     "status": "completed"
    },
    "tags": []
   },
   "outputs": [],
   "source": [
    "print(\"Gender\")\n",
    "text = \" \".join(review for review in df[df.cyberbullying_type=='gender'].tweet_text.astype(str))\n",
    "wordcloud = WordCloud(stopwords=STOPWORDS).generate(text)\n",
    "plt.imshow(wordcloud)\n",
    "plt.axis(\"off\")\n",
    "plt.show()\n",
    "\n",
    "print(\"Ethnicity\")\n",
    "text = \" \".join(review for review in df[df.cyberbullying_type=='ethnicity'].tweet_text.astype(str))\n",
    "wordcloud = WordCloud(stopwords=STOPWORDS).generate(text)\n",
    "plt.imshow(wordcloud)\n",
    "plt.axis(\"off\")\n",
    "plt.show()\n",
    "\n",
    "print(\"Religion\")\n",
    "text = \" \".join(review for review in df[df.cyberbullying_type=='religion'].tweet_text.astype(str))\n",
    "wordcloud = WordCloud(stopwords=STOPWORDS).generate(text)\n",
    "plt.imshow(wordcloud)\n",
    "plt.axis(\"off\")\n",
    "plt.show()\n",
    "\n",
    "print(\"Age\")\n",
    "text = \" \".join(review for review in df[df.cyberbullying_type=='age'].tweet_text.astype(str))\n",
    "wordcloud = WordCloud(stopwords=STOPWORDS).generate(text)\n",
    "plt.imshow(wordcloud)\n",
    "plt.axis(\"off\")\n",
    "plt.show()\n",
    "\n",
    "print(\"Other\")\n",
    "text = \" \".join(review for review in df[df.cyberbullying_type=='other_cyberbullying'].tweet_text.astype(str))\n",
    "wordcloud = WordCloud(stopwords=STOPWORDS).generate(text)\n",
    "plt.imshow(wordcloud)\n",
    "plt.axis(\"off\")\n",
    "plt.show()\n",
    "\n",
    "print(\"Non-bullying\")\n",
    "text = \" \".join(review for review in df[df.cyberbullying_type=='not_cyberbullying'].tweet_text.astype(str))\n",
    "wordcloud = WordCloud(stopwords=STOPWORDS).generate(text)\n",
    "plt.imshow(wordcloud)\n",
    "plt.axis(\"off\")\n",
    "plt.show()"
   ]
  },
  {
   "cell_type": "code",
   "execution_count": null,
   "id": "db4131a6",
   "metadata": {},
   "outputs": [],
   "source": [
    "# OTHER WAY OF PREPROCESSING"
   ]
  },
  {
   "cell_type": "code",
   "execution_count": null,
   "id": "240506ef",
   "metadata": {
    "execution": {
     "iopub.execute_input": "2022-11-25T18:25:04.100817Z",
     "iopub.status.busy": "2022-11-25T18:25:04.100500Z",
     "iopub.status.idle": "2022-11-25T18:25:04.279451Z",
     "shell.execute_reply": "2022-11-25T18:25:04.278205Z"
    },
    "papermill": {
     "duration": 0.208648,
     "end_time": "2022-11-25T18:25:04.281552",
     "exception": false,
     "start_time": "2022-11-25T18:25:04.072904",
     "status": "completed"
    },
    "tags": []
   },
   "outputs": [],
   "source": [
    "def remove_punct(text):\n",
    "  #print(text)\n",
    "  return text.translate(str.maketrans('', '',string.punctuation))\n",
    "\n",
    "df['no_punctuation'] = df['tweet_text'].apply(remove_punct)\n",
    "df['no_punctuation']"
   ]
  },
  {
   "cell_type": "code",
   "execution_count": null,
   "id": "23188cb5",
   "metadata": {},
   "outputs": [],
   "source": [
    "# CONVERTING UPPERCASE TO LOWERCASE AND REMOVING PUNCTUATIONS"
   ]
  },
  {
   "cell_type": "code",
   "execution_count": null,
   "id": "6cabd3b1",
   "metadata": {
    "execution": {
     "iopub.execute_input": "2022-11-25T18:25:04.393734Z",
     "iopub.status.busy": "2022-11-25T18:25:04.392803Z",
     "iopub.status.idle": "2022-11-25T18:25:17.274388Z",
     "shell.execute_reply": "2022-11-25T18:25:17.273366Z"
    },
    "papermill": {
     "duration": 12.912459,
     "end_time": "2022-11-25T18:25:17.277309",
     "exception": false,
     "start_time": "2022-11-25T18:25:04.364850",
     "status": "completed"
    },
    "tags": []
   },
   "outputs": [],
   "source": [
    "def lower(text):\n",
    "    return text.lower()\n",
    "df['no_punctuation'] = df['no_punctuation'].apply(lower)\n",
    "def remove_stopwords(text):\n",
    "    stop_words = set(stopwords.words('english'))\n",
    "    new_text = []\n",
    "    for el in word_tokenize(text):\n",
    "        if not el in stop_words:\n",
    "            new_text.append(el)\n",
    "    return new_text\n",
    "df['no_stopwords'] = df.no_punctuation.apply(remove_stopwords)"
   ]
  },
  {
   "cell_type": "code",
   "execution_count": null,
   "id": "d1e01c4e",
   "metadata": {},
   "outputs": [],
   "source": [
    "# REMOVING EMOJIES"
   ]
  },
  {
   "cell_type": "code",
   "execution_count": null,
   "id": "4e7cc179",
   "metadata": {
    "execution": {
     "iopub.execute_input": "2022-11-25T18:25:17.388282Z",
     "iopub.status.busy": "2022-11-25T18:25:17.387345Z",
     "iopub.status.idle": "2022-11-25T18:25:19.227859Z",
     "shell.execute_reply": "2022-11-25T18:25:19.226227Z"
    },
    "papermill": {
     "duration": 1.872111,
     "end_time": "2022-11-25T18:25:19.231274",
     "exception": false,
     "start_time": "2022-11-25T18:25:17.359163",
     "status": "completed"
    },
    "tags": []
   },
   "outputs": [],
   "source": [
    "def smile_handle(word_list):\n",
    "  new_word_list = []\n",
    "  emoji_pattern = re.compile(r\"([\\U00002600-\\U000027BF])|([\\U0001f300-\\U0001f64F])|([\\U0001f680-\\U0001f6FF])\", flags=re.UNICODE)\n",
    "  for word in word_list:\n",
    "    if len(re.findall(emoji_pattern,word))!=0:\n",
    "      if len(re.findall(emoji_pattern,word))!=len(word):\n",
    "        new_word_list.append(re.sub(emoji_pattern,'',word))\n",
    "      new_word_list.extend(re.findall(emoji_pattern,word))\n",
    "      #print(word,new_word_list)\n",
    "    else:\n",
    "      new_word_list.append(word)\n",
    "  for i,el in enumerate(new_word_list):\n",
    "    if type(el)==tuple:\n",
    "      new_word_list[i] = el[1]\n",
    "  return new_word_list\n",
    "df.no_stopwords = df.no_stopwords.apply(smile_handle)"
   ]
  },
  {
   "cell_type": "code",
   "execution_count": 44,
   "id": "36163213",
   "metadata": {
    "execution": {
     "iopub.execute_input": "2022-11-25T18:25:19.395311Z",
     "iopub.status.busy": "2022-11-25T18:25:19.394797Z",
     "iopub.status.idle": "2022-11-25T18:25:20.094678Z",
     "shell.execute_reply": "2022-11-25T18:25:20.093751Z"
    },
    "papermill": {
     "duration": 0.743529,
     "end_time": "2022-11-25T18:25:20.096769",
     "exception": false,
     "start_time": "2022-11-25T18:25:19.353240",
     "status": "completed"
    },
    "tags": []
   },
   "outputs": [],
   "source": [
    "import nltk"
   ]
  },
  {
   "cell_type": "code",
   "execution_count": null,
   "id": "4683dc0b",
   "metadata": {},
   "outputs": [],
   "source": [
    "# LEMMATIZATION"
   ]
  },
  {
   "cell_type": "code",
   "execution_count": null,
   "id": "02868c79",
   "metadata": {
    "execution": {
     "iopub.execute_input": "2022-11-25T18:25:20.210634Z",
     "iopub.status.busy": "2022-11-25T18:25:20.209709Z",
     "iopub.status.idle": "2022-11-25T18:25:24.479029Z",
     "shell.execute_reply": "2022-11-25T18:25:24.475798Z"
    },
    "papermill": {
     "duration": 4.301337,
     "end_time": "2022-11-25T18:25:24.482410",
     "exception": false,
     "start_time": "2022-11-25T18:25:20.181073",
     "status": "completed"
    },
    "tags": []
   },
   "outputs": [],
   "source": [
    "def lemmatize(words):\n",
    "    new_words = []\n",
    "    lem = WordNetLemmatizer()\n",
    "    for w in words:\n",
    "        new_words.append(lem.lemmatize(w))\n",
    "    return new_words\n",
    "\n",
    "df['lemmatized'] = df.no_stopwords.apply(lemmatize)"
   ]
  },
  {
   "cell_type": "code",
   "execution_count": null,
   "id": "d8df61fa",
   "metadata": {
    "execution": {
     "iopub.execute_input": "2022-11-25T18:25:24.598996Z",
     "iopub.status.busy": "2022-11-25T18:25:24.598652Z",
     "iopub.status.idle": "2022-11-25T18:25:24.603105Z",
     "shell.execute_reply": "2022-11-25T18:25:24.602039Z"
    },
    "papermill": {
     "duration": 0.035104,
     "end_time": "2022-11-25T18:25:24.605416",
     "exception": false,
     "start_time": "2022-11-25T18:25:24.570312",
     "status": "completed"
    },
    "tags": []
   },
   "outputs": [],
   "source": [
    "vocab = Counter()"
   ]
  },
  {
   "cell_type": "code",
   "execution_count": null,
   "id": "377afb97",
   "metadata": {
    "execution": {
     "iopub.execute_input": "2022-11-25T18:25:24.716893Z",
     "iopub.status.busy": "2022-11-25T18:25:24.716582Z",
     "iopub.status.idle": "2022-11-25T18:25:24.860160Z",
     "shell.execute_reply": "2022-11-25T18:25:24.858683Z"
    },
    "papermill": {
     "duration": 0.173591,
     "end_time": "2022-11-25T18:25:24.862137",
     "exception": false,
     "start_time": "2022-11-25T18:25:24.688546",
     "status": "completed"
    },
    "tags": []
   },
   "outputs": [],
   "source": [
    "def add_to_vocab(words):\n",
    "  global vocab\n",
    "  vocab.update(words)\n",
    "df.lemmatized.apply(add_to_vocab)\n",
    "vocab_size = len(vocab)\n",
    "print(\"Vocabulary size: \",vocab_size)"
   ]
  },
  {
   "cell_type": "code",
   "execution_count": null,
   "id": "2bbaaa7a",
   "metadata": {
    "execution": {
     "iopub.execute_input": "2022-11-25T18:25:24.972991Z",
     "iopub.status.busy": "2022-11-25T18:25:24.972171Z",
     "iopub.status.idle": "2022-11-25T18:25:24.988379Z",
     "shell.execute_reply": "2022-11-25T18:25:24.987402Z"
    },
    "papermill": {
     "duration": 0.046136,
     "end_time": "2022-11-25T18:25:24.990347",
     "exception": false,
     "start_time": "2022-11-25T18:25:24.944211",
     "status": "completed"
    },
    "tags": []
   },
   "outputs": [],
   "source": [
    "vocab.most_common(50)"
   ]
  },
  {
   "cell_type": "code",
   "execution_count": null,
   "id": "72d10390",
   "metadata": {
    "execution": {
     "iopub.execute_input": "2022-11-25T18:25:25.102699Z",
     "iopub.status.busy": "2022-11-25T18:25:25.101866Z",
     "iopub.status.idle": "2022-11-25T18:25:52.457886Z",
     "shell.execute_reply": "2022-11-25T18:25:52.456519Z"
    },
    "papermill": {
     "duration": 27.387596,
     "end_time": "2022-11-25T18:25:52.460497",
     "exception": false,
     "start_time": "2022-11-25T18:25:25.072901",
     "status": "completed"
    },
    "tags": []
   },
   "outputs": [],
   "source": [
    "words = [key for key,val in vocab.items() if val>=3]\n",
    "vocab_size = len(words)\n",
    "print(vocab_size)\n",
    "def remove_rare(text):\n",
    "    global words\n",
    "    for el in text:\n",
    "        if not el in words:\n",
    "            text.remove(el)\n",
    "    return text\n",
    "    \n",
    "df.lemmatized = df.lemmatized.apply(remove_rare)"
   ]
  },
  {
   "cell_type": "code",
   "execution_count": 45,
   "id": "d3043813",
   "metadata": {},
   "outputs": [],
   "source": [
    "# SPLITTING THE DATA"
   ]
  },
  {
   "cell_type": "code",
   "execution_count": null,
   "id": "c827aef7",
   "metadata": {
    "execution": {
     "iopub.execute_input": "2022-11-25T18:25:52.631408Z",
     "iopub.status.busy": "2022-11-25T18:25:52.631056Z",
     "iopub.status.idle": "2022-11-25T18:25:52.654109Z",
     "shell.execute_reply": "2022-11-25T18:25:52.653023Z"
    },
    "papermill": {
     "duration": 0.054133,
     "end_time": "2022-11-25T18:25:52.656243",
     "exception": false,
     "start_time": "2022-11-25T18:25:52.602110",
     "status": "completed"
    },
    "tags": []
   },
   "outputs": [],
   "source": [
    "X_train,X_test,y_train,y_test = train_test_split(df[['lemmatized']],df['cyberbullying_type'])"
   ]
  },
  {
   "cell_type": "code",
   "execution_count": null,
   "id": "b6bcfd96",
   "metadata": {
    "execution": {
     "iopub.execute_input": "2022-11-25T18:25:52.713752Z",
     "iopub.status.busy": "2022-11-25T18:25:52.713435Z",
     "iopub.status.idle": "2022-11-25T18:25:52.972219Z",
     "shell.execute_reply": "2022-11-25T18:25:52.971292Z"
    },
    "papermill": {
     "duration": 0.289478,
     "end_time": "2022-11-25T18:25:52.974324",
     "exception": false,
     "start_time": "2022-11-25T18:25:52.684846",
     "status": "completed"
    },
    "tags": []
   },
   "outputs": [],
   "source": [
    "vocab = Counter()\n",
    "def add_to_vocab(words):\n",
    "  global vocab\n",
    "  vocab.update(words)\n",
    "X_train.lemmatized.apply(add_to_vocab)\n",
    "df.lemmatized.apply(add_to_vocab)\n",
    "vocab_size = len(vocab)\n",
    "vocab_size"
   ]
  },
  {
   "cell_type": "code",
   "execution_count": null,
   "id": "a32363a8",
   "metadata": {},
   "outputs": [],
   "source": [
    "# TOKENIZATION"
   ]
  },
  {
   "cell_type": "code",
   "execution_count": null,
   "id": "c171d475",
   "metadata": {
    "execution": {
     "iopub.execute_input": "2022-11-25T18:25:53.087352Z",
     "iopub.status.busy": "2022-11-25T18:25:53.086488Z",
     "iopub.status.idle": "2022-11-25T18:25:53.752049Z",
     "shell.execute_reply": "2022-11-25T18:25:53.750688Z"
    },
    "papermill": {
     "duration": 0.699797,
     "end_time": "2022-11-25T18:25:53.758132",
     "exception": false,
     "start_time": "2022-11-25T18:25:53.058335",
     "status": "completed"
    },
    "tags": []
   },
   "outputs": [],
   "source": [
    "tokenizer = Tokenizer()\n",
    "tokenizer.fit_on_texts(X_train.lemmatized)\n",
    "X_train = tokenizer.texts_to_sequences(X_train.lemmatized)\n",
    "X_test = tokenizer.texts_to_sequences(X_test.lemmatized)"
   ]
  },
  {
   "cell_type": "code",
   "execution_count": null,
   "id": "d22ff143",
   "metadata": {
    "execution": {
     "iopub.execute_input": "2022-11-25T18:25:53.882686Z",
     "iopub.status.busy": "2022-11-25T18:25:53.882320Z",
     "iopub.status.idle": "2022-11-25T18:25:53.911124Z",
     "shell.execute_reply": "2022-11-25T18:25:53.909978Z"
    },
    "papermill": {
     "duration": 0.088873,
     "end_time": "2022-11-25T18:25:53.913791",
     "exception": false,
     "start_time": "2022-11-25T18:25:53.824918",
     "status": "completed"
    },
    "tags": []
   },
   "outputs": [],
   "source": [
    "max_size = len(max(df.lemmatized,key=lambda x:len(x)))\n",
    "max_size"
   ]
  },
  {
   "cell_type": "code",
   "execution_count": null,
   "id": "8d86623f",
   "metadata": {
    "execution": {
     "iopub.execute_input": "2022-11-25T18:25:54.010004Z",
     "iopub.status.busy": "2022-11-25T18:25:54.009530Z",
     "iopub.status.idle": "2022-11-25T18:25:54.179105Z",
     "shell.execute_reply": "2022-11-25T18:25:54.178087Z"
    },
    "papermill": {
     "duration": 0.218757,
     "end_time": "2022-11-25T18:25:54.182617",
     "exception": false,
     "start_time": "2022-11-25T18:25:53.963860",
     "status": "completed"
    },
    "tags": []
   },
   "outputs": [],
   "source": [
    "X_train = pad_sequences(X_train, maxlen=max_size, padding='post')"
   ]
  },
  {
   "cell_type": "code",
   "execution_count": null,
   "id": "68bfac1f",
   "metadata": {
    "execution": {
     "iopub.execute_input": "2022-11-25T18:25:54.272005Z",
     "iopub.status.busy": "2022-11-25T18:25:54.271553Z",
     "iopub.status.idle": "2022-11-25T18:25:54.340466Z",
     "shell.execute_reply": "2022-11-25T18:25:54.339481Z"
    },
    "papermill": {
     "duration": 0.117565,
     "end_time": "2022-11-25T18:25:54.342977",
     "exception": false,
     "start_time": "2022-11-25T18:25:54.225412",
     "status": "completed"
    },
    "tags": []
   },
   "outputs": [],
   "source": [
    "X_test = pad_sequences(X_test, maxlen=max_size, padding='post')"
   ]
  },
  {
   "cell_type": "code",
   "execution_count": null,
   "id": "5b413294",
   "metadata": {
    "execution": {
     "iopub.execute_input": "2022-11-25T18:25:54.458145Z",
     "iopub.status.busy": "2022-11-25T18:25:54.457776Z",
     "iopub.status.idle": "2022-11-25T18:25:54.476982Z",
     "shell.execute_reply": "2022-11-25T18:25:54.476074Z"
    },
    "papermill": {
     "duration": 0.050347,
     "end_time": "2022-11-25T18:25:54.478952",
     "exception": false,
     "start_time": "2022-11-25T18:25:54.428605",
     "status": "completed"
    },
    "tags": []
   },
   "outputs": [],
   "source": [
    "enc = OrdinalEncoder()\n",
    "y_train,y_test = to_categorical(enc.fit_transform(X=y_train.to_frame()),num_classes=6),to_categorical(enc.fit_transform(X=y_test.to_frame()),num_classes=6)"
   ]
  },
  {
   "cell_type": "code",
   "execution_count": null,
   "id": "55e65d38",
   "metadata": {
    "execution": {
     "iopub.execute_input": "2022-11-25T18:25:54.538202Z",
     "iopub.status.busy": "2022-11-25T18:25:54.537341Z",
     "iopub.status.idle": "2022-11-25T18:25:54.544113Z",
     "shell.execute_reply": "2022-11-25T18:25:54.543129Z"
    },
    "papermill": {
     "duration": 0.038189,
     "end_time": "2022-11-25T18:25:54.546112",
     "exception": false,
     "start_time": "2022-11-25T18:25:54.507923",
     "status": "completed"
    },
    "tags": []
   },
   "outputs": [],
   "source": [
    "X_train"
   ]
  },
  {
   "cell_type": "code",
   "execution_count": null,
   "id": "5c116980",
   "metadata": {},
   "outputs": [],
   "source": [
    "# TRAINING THE CNN MODEL"
   ]
  },
  {
   "cell_type": "code",
   "execution_count": 17,
   "id": "779ba32f",
   "metadata": {
    "execution": {
     "iopub.execute_input": "2022-11-25T18:25:54.721305Z",
     "iopub.status.busy": "2022-11-25T18:25:54.720948Z",
     "iopub.status.idle": "2022-11-25T18:25:54.727543Z",
     "shell.execute_reply": "2022-11-25T18:25:54.726566Z"
    },
    "papermill": {
     "duration": 0.039736,
     "end_time": "2022-11-25T18:25:54.729682",
     "exception": false,
     "start_time": "2022-11-25T18:25:54.689946",
     "status": "completed"
    },
    "tags": []
   },
   "outputs": [],
   "source": [
    "def define_model(vocab_size,max_length):\n",
    "    model = Sequential()\n",
    "    model.add(Embedding(vocab_size, 100, input_length=max_length))\n",
    "    model.add(Conv1D(filters=32, kernel_size=8, activation='relu'))\n",
    "    model.add(MaxPooling1D(pool_size=2))\n",
    "    model.add(Flatten())\n",
    "    model.add(Dense(10, activation='relu',kernel_regularizer=regularizers.L1L2(l1=1e-5, l2=1e-4)))\n",
    "    model.add(Dense(6, activation='softmax'))\n",
    "    model.compile(loss='categorical_crossentropy', optimizer='adam', metrics=['accuracy'])\n",
    "    return model"
   ]
  },
  {
   "cell_type": "code",
   "execution_count": null,
   "id": "4362ce36",
   "metadata": {
    "execution": {
     "iopub.execute_input": "2022-11-25T18:25:54.794236Z",
     "iopub.status.busy": "2022-11-25T18:25:54.792573Z",
     "iopub.status.idle": "2022-11-25T18:28:20.139722Z",
     "shell.execute_reply": "2022-11-25T18:28:20.138745Z"
    },
    "papermill": {
     "duration": 145.414567,
     "end_time": "2022-11-25T18:28:20.173628",
     "exception": false,
     "start_time": "2022-11-25T18:25:54.759061",
     "status": "completed"
    },
    "tags": []
   },
   "outputs": [],
   "source": [
    "model = define_model(vocab_size,max_size)\n",
    "model.fit(X_train, y_train, epochs=20, verbose=2)"
   ]
  },
  {
   "cell_type": "code",
   "execution_count": null,
   "id": "8d7153cb",
   "metadata": {},
   "outputs": [],
   "source": [
    "# EVALUATING THE MODEL"
   ]
  },
  {
   "cell_type": "code",
   "execution_count": null,
   "id": "f9b9dde5",
   "metadata": {
    "execution": {
     "iopub.execute_input": "2022-11-25T18:28:20.297286Z",
     "iopub.status.busy": "2022-11-25T18:28:20.296917Z",
     "iopub.status.idle": "2022-11-25T18:28:21.382728Z",
     "shell.execute_reply": "2022-11-25T18:28:21.381803Z"
    },
    "papermill": {
     "duration": 1.119845,
     "end_time": "2022-11-25T18:28:21.384929",
     "exception": false,
     "start_time": "2022-11-25T18:28:20.265084",
     "status": "completed"
    },
    "tags": []
   },
   "outputs": [],
   "source": [
    "results = model.evaluate(X_test, y_test)\n",
    "results"
   ]
  },
  {
   "cell_type": "code",
   "execution_count": null,
   "id": "b2e8926b",
   "metadata": {
    "execution": {
     "iopub.execute_input": "2022-11-25T18:28:21.450877Z",
     "iopub.status.busy": "2022-11-25T18:28:21.450039Z",
     "iopub.status.idle": "2022-11-25T18:28:21.504051Z",
     "shell.execute_reply": "2022-11-25T18:28:21.503043Z"
    },
    "papermill": {
     "duration": 0.088527,
     "end_time": "2022-11-25T18:28:21.506583",
     "exception": false,
     "start_time": "2022-11-25T18:28:21.418056",
     "status": "completed"
    },
    "tags": []
   },
   "outputs": [],
   "source": [
    "from tensorflow.keras.models import save_model\n",
    "save_model(model, \"model.h5\")"
   ]
  }
 ],
 "metadata": {
  "kernelspec": {
   "display_name": "Python 3 (ipykernel)",
   "language": "python",
   "name": "python3"
  },
  "language_info": {
   "codemirror_mode": {
    "name": "ipython",
    "version": 3
   },
   "file_extension": ".py",
   "mimetype": "text/x-python",
   "name": "python",
   "nbconvert_exporter": "python",
   "pygments_lexer": "ipython3",
   "version": "3.10.11"
  },
  "papermill": {
   "default_parameters": {},
   "duration": 690.009175,
   "end_time": "2022-11-25T18:35:45.022274",
   "environment_variables": {},
   "exception": null,
   "input_path": "__notebook__.ipynb",
   "output_path": "__notebook__.ipynb",
   "parameters": {},
   "start_time": "2022-11-25T18:24:15.013099",
   "version": "2.3.4"
  }
 },
 "nbformat": 4,
 "nbformat_minor": 5
}
